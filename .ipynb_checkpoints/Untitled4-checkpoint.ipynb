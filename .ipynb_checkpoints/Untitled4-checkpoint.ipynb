{
 "cells": [
  {
   "cell_type": "code",
   "execution_count": 1,
   "id": "4f5acf66",
   "metadata": {},
   "outputs": [
    {
     "name": "stdout",
     "output_type": "stream",
     "text": [
      "Requirement already satisfied: networkx in c:\\users\\kamar\\anaconda3\\lib\\site-packages (3.1)Note: you may need to restart the kernel to use updated packages.\n",
      "\n",
      "Requirement already satisfied: pandas in c:\\users\\kamar\\anaconda3\\lib\\site-packages (2.0.3)\n",
      "Requirement already satisfied: python-dateutil>=2.8.2 in c:\\users\\kamar\\anaconda3\\lib\\site-packages (from pandas) (2.8.2)\n",
      "Requirement already satisfied: pytz>=2020.1 in c:\\users\\kamar\\anaconda3\\lib\\site-packages (from pandas) (2023.3.post1)\n",
      "Requirement already satisfied: tzdata>=2022.1 in c:\\users\\kamar\\anaconda3\\lib\\site-packages (from pandas) (2023.3)\n",
      "Requirement already satisfied: numpy>=1.21.0 in c:\\users\\kamar\\anaconda3\\lib\\site-packages (from pandas) (1.24.3)\n",
      "Requirement already satisfied: six>=1.5 in c:\\users\\kamar\\anaconda3\\lib\\site-packages (from python-dateutil>=2.8.2->pandas) (1.16.0)\n"
     ]
    }
   ],
   "source": [
    "pip install networkx pandas"
   ]
  },
  {
   "cell_type": "code",
   "execution_count": null,
   "id": "e23e7ffe",
   "metadata": {},
   "outputs": [
    {
     "name": "stdout",
     "output_type": "stream",
     "text": [
      "Number of nodes: 4039\n",
      "Number of edges: 88234\n",
      "Graph density: 0.010819963503439287\n",
      "Average clustering coefficient: 0.6055467186200876\n"
     ]
    }
   ],
   "source": [
    "import networkx as nx\n",
    "import pandas as pd\n",
    "import matplotlib.pyplot as plt\n",
    "\n",
    "file_path = \"facebook_combined.txt\"\n",
    "\n",
    "G = nx.read_edgelist(file_path, create_using = nx.Graph(), nodetype = int)\n",
    "\n",
    "print(f\"Number of nodes: {G.number_of_nodes()}\")\n",
    "print(f\"Number of edges: {G.number_of_edges()}\")\n",
    "print(f\"Graph density: {nx.density(G)}\")\n",
    "print(f\"Average clustering coefficient: {nx.average_clustering(G)}\")\n",
    "\n",
    "degree_centrality = nx.degree_centrality(G)\n",
    "betweenness_centrality = nx.betweenness_centrality(G)\n",
    "closeness_centrality = nx.closeness_centrality(G)\n",
    "eigenvector_centrality = nx.eigenvector_centrality(G, max_iter = 1000)\n",
    "\n",
    "centralities_df = pd.DataFrame({\n",
    "    'Degree Centrality': pd.Series(degree_centrality),\n",
    "    'Betweenness Centrality': pd.Series(betweenness_centrality),\n",
    "    'Closeness Centrality': pd.Series(closeness_centrality),\n",
    "    'Eigenvector Centrality': pd.Series(eigenvector_centrality)\n",
    "})\n",
    "\n",
    "print(\"Centralities measures for 5 nodes\")\n",
    "print(centralities_df.head())\n",
    "\n",
    "clustering_coeff = nx.clustering(G)\n",
    "average_clustering = nx.average_clustering(G)\n",
    "print(f\"Average Clustering Coefficient: {average_clustering}\")"
   ]
  },
  {
   "cell_type": "code",
   "execution_count": null,
   "id": "359f7385",
   "metadata": {},
   "outputs": [],
   "source": []
  }
 ],
 "metadata": {
  "kernelspec": {
   "display_name": "Python 3 (ipykernel)",
   "language": "python",
   "name": "python3"
  },
  "language_info": {
   "codemirror_mode": {
    "name": "ipython",
    "version": 3
   },
   "file_extension": ".py",
   "mimetype": "text/x-python",
   "name": "python",
   "nbconvert_exporter": "python",
   "pygments_lexer": "ipython3",
   "version": "3.11.5"
  }
 },
 "nbformat": 4,
 "nbformat_minor": 5
}
