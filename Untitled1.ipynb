{
 "cells": [
  {
   "cell_type": "code",
   "execution_count": 4,
   "id": "5f981b45",
   "metadata": {},
   "outputs": [],
   "source": [
    "import requests\n",
    "import pandas as pd\n",
    "import zipfile\n",
    "import io\n",
    "import os\n",
    "\n",
    "# define the API endpoint\n",
    "api_url = \"https://api.data.gov.my/gtfs-static/prasarana?category=rapid-rail-kl\"\n",
    "\n",
    "# request to the API\n",
    "response = requests.get(api_url)"
   ]
  },
  {
   "cell_type": "code",
   "execution_count": 5,
   "id": "eb77a848",
   "metadata": {},
   "outputs": [
    {
     "name": "stdout",
     "output_type": "stream",
     "text": [
      "Files extracted successfully.\n"
     ]
    }
   ],
   "source": [
    "# load the content into BytesIO object\n",
    "z = zipfile.ZipFile(io.BytesIO(response.content))\n",
    "# extract all files into current directory\n",
    "z.extractall()\n",
    "print(\"Files extracted successfully.\")"
   ]
  },
  {
   "cell_type": "code",
   "execution_count": 6,
   "id": "aee521b0",
   "metadata": {},
   "outputs": [
    {
     "name": "stdout",
     "output_type": "stream",
     "text": [
      "agency.txt\n",
      "calendar.txt\n",
      "frequencies.txt\n",
      "routes.txt\n",
      "shapes.txt\n",
      "stop_times.txt\n",
      "stops.txt\n",
      "trips.txt\n"
     ]
    }
   ],
   "source": [
    "for file in z.namelist():\n",
    "    print(file)"
   ]
  },
  {
   "cell_type": "code",
   "execution_count": null,
   "id": "76909436",
   "metadata": {},
   "outputs": [],
   "source": []
  }
 ],
 "metadata": {
  "kernelspec": {
   "display_name": "Python 3 (ipykernel)",
   "language": "python",
   "name": "python3"
  },
  "language_info": {
   "codemirror_mode": {
    "name": "ipython",
    "version": 3
   },
   "file_extension": ".py",
   "mimetype": "text/x-python",
   "name": "python",
   "nbconvert_exporter": "python",
   "pygments_lexer": "ipython3",
   "version": "3.11.5"
  }
 },
 "nbformat": 4,
 "nbformat_minor": 5
}
