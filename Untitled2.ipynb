{
 "cells": [
  {
   "cell_type": "code",
   "execution_count": 1,
   "id": "2a99d4fa",
   "metadata": {},
   "outputs": [],
   "source": [
    "import requests\n",
    "from bs4 import BeautifulSoup\n",
    "\n",
    "# Define the URL\n",
    "url = \"https://data.moh.gov.my/dashboard/organ-donation\"\n",
    "\n",
    "# Send a request to fetch the page\n",
    "response = requests.get(url)\n",
    "soup = BeautifulSoup(response.content, 'html.parser')\n",
    "\n",
    "# Example of finding data in tables or scripts\n",
    "data = []\n",
    "tables = soup.find_all('table')  # Modify this as needed based on actual data structure\n",
    "\n",
    "for table in tables:\n",
    "    rows = table.find_all('tr')\n",
    "    for row in rows:\n",
    "        cols = [col.get_text(strip=True) for col in row.find_all('td')]\n",
    "        data.append(cols)\n",
    "\n",
    "# Now 'data' should contain the scraped data; further processing can be done as needed."
   ]
  },
  {
   "cell_type": "code",
   "execution_count": 4,
   "id": "bd59d191",
   "metadata": {},
   "outputs": [
    {
     "data": {
      "text/plain": [
       "[]"
      ]
     },
     "execution_count": 4,
     "metadata": {},
     "output_type": "execute_result"
    }
   ],
   "source": [
    "data"
   ]
  },
  {
   "cell_type": "code",
   "execution_count": null,
   "id": "8bcdae2e",
   "metadata": {},
   "outputs": [],
   "source": []
  }
 ],
 "metadata": {
  "kernelspec": {
   "display_name": "Python 3 (ipykernel)",
   "language": "python",
   "name": "python3"
  },
  "language_info": {
   "codemirror_mode": {
    "name": "ipython",
    "version": 3
   },
   "file_extension": ".py",
   "mimetype": "text/x-python",
   "name": "python",
   "nbconvert_exporter": "python",
   "pygments_lexer": "ipython3",
   "version": "3.11.5"
  }
 },
 "nbformat": 4,
 "nbformat_minor": 5
}
