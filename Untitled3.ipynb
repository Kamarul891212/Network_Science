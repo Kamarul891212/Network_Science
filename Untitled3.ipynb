{
 "cells": [
  {
   "cell_type": "code",
   "execution_count": 10,
   "id": "3025a2f6",
   "metadata": {},
   "outputs": [
    {
     "name": "stdout",
     "output_type": "stream",
     "text": [
      "          date_reg        type           maker     model colour    fuel  \\\n",
      "0       2020-01-01     motokar             BMW  3 Series   blue  petrol   \n",
      "1       2020-01-01     motokar             BMW  3 Series   grey  petrol   \n",
      "2       2020-01-01     motokar             BMW  3 Series  white  petrol   \n",
      "3       2020-01-01     motokar             BMW  3 Series   blue  petrol   \n",
      "4       2020-01-01     motokar             BMW  3 Series  white  petrol   \n",
      "...            ...         ...             ...       ...    ...     ...   \n",
      "552354  2020-12-31         jip           Volvo      XC90  black  petrol   \n",
      "552355  2020-12-31         jip           Volvo      XC90  black  petrol   \n",
      "552356  2020-12-31         jip           Volvo      XC90   blue  petrol   \n",
      "552357  2020-12-31  window_van  Weststar Maxus       G10  black  petrol   \n",
      "552358  2020-12-31     pick_up  Weststar Maxus       T60   grey  diesel   \n",
      "\n",
      "                    state  \n",
      "0             Rakan Niaga  \n",
      "1             Rakan Niaga  \n",
      "2             Rakan Niaga  \n",
      "3             Rakan Niaga  \n",
      "4             Rakan Niaga  \n",
      "...                   ...  \n",
      "552354        Rakan Niaga  \n",
      "552355       Pulau Pinang  \n",
      "552356  W.P. Kuala Lumpur  \n",
      "552357             Pahang  \n",
      "552358              Johor  \n",
      "\n",
      "[552359 rows x 7 columns]\n"
     ]
    }
   ],
   "source": [
    "# If not already installed, do: pip install pandas fastparquet\n",
    "import pandas as pd\n",
    "\n",
    "URL_DATA = 'https://storage.data.gov.my/transportation/cars_2020.parquet'\n",
    "\n",
    "df = pd.read_parquet(URL_DATA)\n",
    "if 'date' in df.columns: df['date'] = pd.to_datetime(df['date'])\n",
    "\n",
    "print(df)"
   ]
  },
  {
   "cell_type": "code",
   "execution_count": null,
   "id": "8d9a615e",
   "metadata": {},
   "outputs": [],
   "source": [
    "# save the combined DataFrame to a csv file\n",
    "df.to_csv('combined_gtfs_data.csv', index = False)"
   ]
  }
 ],
 "metadata": {
  "kernelspec": {
   "display_name": "Python 3 (ipykernel)",
   "language": "python",
   "name": "python3"
  },
  "language_info": {
   "codemirror_mode": {
    "name": "ipython",
    "version": 3
   },
   "file_extension": ".py",
   "mimetype": "text/x-python",
   "name": "python",
   "nbconvert_exporter": "python",
   "pygments_lexer": "ipython3",
   "version": "3.11.5"
  }
 },
 "nbformat": 4,
 "nbformat_minor": 5
}
