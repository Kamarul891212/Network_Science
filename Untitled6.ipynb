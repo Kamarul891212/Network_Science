{
 "cells": [
  {
   "cell_type": "code",
   "execution_count": 2,
   "id": "fdc9538a",
   "metadata": {},
   "outputs": [
    {
     "ename": "MemoryError",
     "evalue": "",
     "output_type": "error",
     "traceback": [
      "\u001b[1;31m---------------------------------------------------------------------------\u001b[0m",
      "\u001b[1;31mMemoryError\u001b[0m                               Traceback (most recent call last)",
      "Cell \u001b[1;32mIn[2], line 13\u001b[0m\n\u001b[0;32m     11\u001b[0m \u001b[38;5;28;01mfor\u001b[39;00m state, group \u001b[38;5;129;01min\u001b[39;00m data\u001b[38;5;241m.\u001b[39mgroupby(\u001b[38;5;124m'\u001b[39m\u001b[38;5;124mstate\u001b[39m\u001b[38;5;124m'\u001b[39m):\n\u001b[0;32m     12\u001b[0m     models \u001b[38;5;241m=\u001b[39m group[\u001b[38;5;124m'\u001b[39m\u001b[38;5;124mmodel\u001b[39m\u001b[38;5;124m'\u001b[39m]\n\u001b[1;32m---> 13\u001b[0m     model_pairs \u001b[38;5;241m=\u001b[39m [(model1, model2) \u001b[38;5;28;01mfor\u001b[39;00m i, model1 \u001b[38;5;129;01min\u001b[39;00m \u001b[38;5;28menumerate\u001b[39m(models) \u001b[38;5;28;01mfor\u001b[39;00m model2 \u001b[38;5;129;01min\u001b[39;00m models[i \u001b[38;5;241m+\u001b[39m \u001b[38;5;241m1\u001b[39m:]]\n\u001b[0;32m     14\u001b[0m     \u001b[38;5;28;01mfor\u001b[39;00m model1, model2 \u001b[38;5;129;01min\u001b[39;00m model_pairs:\n\u001b[0;32m     15\u001b[0m         \u001b[38;5;28;01mif\u001b[39;00m G\u001b[38;5;241m.\u001b[39mhas_edge(model1, model2):\n",
      "Cell \u001b[1;32mIn[2], line 13\u001b[0m, in \u001b[0;36m<listcomp>\u001b[1;34m(.0)\u001b[0m\n\u001b[0;32m     11\u001b[0m \u001b[38;5;28;01mfor\u001b[39;00m state, group \u001b[38;5;129;01min\u001b[39;00m data\u001b[38;5;241m.\u001b[39mgroupby(\u001b[38;5;124m'\u001b[39m\u001b[38;5;124mstate\u001b[39m\u001b[38;5;124m'\u001b[39m):\n\u001b[0;32m     12\u001b[0m     models \u001b[38;5;241m=\u001b[39m group[\u001b[38;5;124m'\u001b[39m\u001b[38;5;124mmodel\u001b[39m\u001b[38;5;124m'\u001b[39m]\n\u001b[1;32m---> 13\u001b[0m     model_pairs \u001b[38;5;241m=\u001b[39m [(model1, model2) \u001b[38;5;28;01mfor\u001b[39;00m i, model1 \u001b[38;5;129;01min\u001b[39;00m \u001b[38;5;28menumerate\u001b[39m(models) \u001b[38;5;28;01mfor\u001b[39;00m model2 \u001b[38;5;129;01min\u001b[39;00m models[i \u001b[38;5;241m+\u001b[39m \u001b[38;5;241m1\u001b[39m:]]\n\u001b[0;32m     14\u001b[0m     \u001b[38;5;28;01mfor\u001b[39;00m model1, model2 \u001b[38;5;129;01min\u001b[39;00m model_pairs:\n\u001b[0;32m     15\u001b[0m         \u001b[38;5;28;01mif\u001b[39;00m G\u001b[38;5;241m.\u001b[39mhas_edge(model1, model2):\n",
      "\u001b[1;31mMemoryError\u001b[0m: "
     ]
    }
   ],
   "source": [
    "import pandas as pd\n",
    "import networkx as nx\n",
    "import matplotlib.pyplot as plt\n",
    "\n",
    "# Load the dataset\n",
    "data = pd.read_csv(\"cars_2024.csv\")\n",
    "\n",
    "# Create a graph where edges represent shared states and weights are the registration frequencies\n",
    "G = nx.Graph()\n",
    "\n",
    "for state, group in data.groupby('state'):\n",
    "    models = group['model']\n",
    "    model_pairs = [(model1, model2) for i, model1 in enumerate(models) for model2 in models[i + 1:]]\n",
    "    for model1, model2 in model_pairs:\n",
    "        if G.has_edge(model1, model2):\n",
    "            G[model1][model2]['weight'] += len(group)\n",
    "        else:\n",
    "            G.add_edge(model1, model2, weight=len(group), state=state)\n",
    "\n",
    "# Extract edge weights\n",
    "edge_weights = [d['weight'] for _, _, d in G.edges(data=True)]\n",
    "\n",
    "# Visualize the graph\n",
    "plt.figure(figsize=(14, 12))\n",
    "pos = nx.spring_layout(G, seed=42)\n",
    "nx.draw_networkx_nodes(G, pos, node_size=500, alpha=0.8)\n",
    "nx.draw_networkx_edges(G, pos, width=[w / 10 for w in edge_weights], alpha=0.5)\n",
    "nx.draw_networkx_labels(G, pos, font_size=9, font_family=\"sans-serif\")\n",
    "plt.title(\"Vehicle Model Network (Shared States with Registration Frequency as Weight)\")\n",
    "plt.show()"
   ]
  },
  {
   "cell_type": "code",
   "execution_count": null,
   "id": "bb9bf19e",
   "metadata": {},
   "outputs": [],
   "source": []
  }
 ],
 "metadata": {
  "kernelspec": {
   "display_name": "Python 3 (ipykernel)",
   "language": "python",
   "name": "python3"
  },
  "language_info": {
   "codemirror_mode": {
    "name": "ipython",
    "version": 3
   },
   "file_extension": ".py",
   "mimetype": "text/x-python",
   "name": "python",
   "nbconvert_exporter": "python",
   "pygments_lexer": "ipython3",
   "version": "3.11.5"
  }
 },
 "nbformat": 4,
 "nbformat_minor": 5
}
